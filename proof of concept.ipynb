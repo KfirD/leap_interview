{
 "cells": [
  {
   "cell_type": "markdown",
   "metadata": {},
   "source": [
    "# Proof of concept"
   ]
  },
  {
   "cell_type": "code",
   "execution_count": 1,
   "metadata": {},
   "outputs": [],
   "source": [
    "import torch\n",
    "import torch as t\n",
    "import torch.nn as nn\n",
    "import torch.nn.functional as F\n",
    "import torchvision.models as models\n",
    "import torchvision.transforms as transforms\n",
    "from PIL import Image\n",
    "import json\n",
    "import requests\n",
    "import numpy as np\n",
    "\n",
    "import torch\n",
    "from torchvision import transforms\n",
    "from PIL import Image"
   ]
  },
  {
   "cell_type": "markdown",
   "metadata": {},
   "source": [
    "## Model use example"
   ]
  },
  {
   "cell_type": "code",
   "execution_count": 2,
   "metadata": {},
   "outputs": [
    {
     "name": "stderr",
     "output_type": "stream",
     "text": [
      "/opt/homebrew/Caskroom/miniconda/base/lib/python3.11/site-packages/torchvision/models/_utils.py:208: UserWarning: The parameter 'pretrained' is deprecated since 0.13 and may be removed in the future, please use 'weights' instead.\n",
      "  warnings.warn(\n",
      "/opt/homebrew/Caskroom/miniconda/base/lib/python3.11/site-packages/torchvision/models/_utils.py:223: UserWarning: Arguments other than a weight enum or `None` for 'weights' are deprecated since 0.13 and may be removed in the future. The current behavior is equivalent to passing `weights=ResNet18_Weights.IMAGENET1K_V1`. You can also use `weights=ResNet18_Weights.DEFAULT` to get the most up-to-date weights.\n",
      "  warnings.warn(msg)\n"
     ]
    },
    {
     "data": {
      "text/plain": [
       "'grey parrot'"
      ]
     },
     "execution_count": 2,
     "metadata": {},
     "output_type": "execute_result"
    }
   ],
   "source": [
    "# Load pretrained model\n",
    "model = models.resnet18(pretrained=True)\n",
    "model.eval()\n",
    "\n",
    "# Function to prepare images for input\n",
    "transform = transforms.Compose([\n",
    "    transforms.Resize((224,224)),\n",
    "    transforms.ToTensor(),\n",
    "    transforms.Normalize(mean=[0.485, 0.456, 0.406], std=[0.229, 0.224, 0.225])\n",
    "])\n",
    "\n",
    "# Load an image\n",
    "image = Image.open(\"grey.jpeg\")\n",
    "input_tensor = transform(image).unsqueeze(0)\n",
    "\n",
    "\n",
    "    \n",
    "def predict_label(model, input_tensor):\n",
    "    url = \"https://raw.githubusercontent.com/anishathalye/imagenet-simple-labels/master/imagenet-simple-labels.json\"\n",
    "    labels = requests.get(url).json()\n",
    "    \n",
    "    with torch.no_grad():\n",
    "        output = model(input_tensor)\n",
    "    _, predicted = torch.max(output, 1)\n",
    "    predicted_label = labels[predicted.item()]\n",
    "    \n",
    "    return predicted_label\n",
    "\n",
    "\n",
    "predict_label(model, input_tensor)\n"
   ]
  },
  {
   "cell_type": "markdown",
   "metadata": {},
   "source": [
    "## Image Attack Functions"
   ]
  },
  {
   "cell_type": "markdown",
   "metadata": {},
   "source": [
    "### Proccessing image"
   ]
  },
  {
   "cell_type": "code",
   "execution_count": 3,
   "metadata": {},
   "outputs": [
    {
     "name": "stdout",
     "output_type": "stream",
     "text": [
      "<class 'torch.Tensor'>\n",
      "torch.Size([1, 3, 224, 224])\n"
     ]
    }
   ],
   "source": [
    "def proccess_image(image_path: str) -> torch.Tensor:\n",
    "    \n",
    "    # Function to prepare images for input\n",
    "    transform = transforms.Compose([\n",
    "        transforms.Resize((224,224)),\n",
    "        transforms.ToTensor(),\n",
    "        transforms.Normalize(mean=[0.485, 0.456, 0.406], std=[0.229, 0.224, 0.225])\n",
    "    ])\n",
    "    \n",
    "    # Load an image\n",
    "    image = Image.open(image_path)\n",
    "    input_tensor = transform(image).unsqueeze(0)\n",
    "    \n",
    "    return input_tensor\n",
    "\n",
    "# Test\n",
    "image_path = \"grey.jpeg\"\n",
    "output = proccess_image(image_path)\n",
    "print(type(output))\n",
    "print(output.shape)\n"
   ]
  },
  {
   "cell_type": "markdown",
   "metadata": {},
   "source": [
    "### Calculation noise"
   ]
  },
  {
   "cell_type": "code",
   "execution_count": 4,
   "metadata": {},
   "outputs": [],
   "source": [
    "# TODO, make labels an attribute in the class so they're not a floating global variable\n",
    "\n",
    "url = \"https://raw.githubusercontent.com/anishathalye/imagenet-simple-labels/master/imagenet-simple-labels.json\"\n",
    "labels = requests.get(url).json()\n",
    "\n",
    "# return idx of target\n",
    "def get_target_idx(attack_target: str) -> int:\n",
    "    idx = labels.index(attack_target)\n",
    "    out = torch.tensor(idx).reshape(1)\n",
    "    return out \n",
    "\n",
    "\n"
   ]
  },
  {
   "cell_type": "code",
   "execution_count": 5,
   "metadata": {},
   "outputs": [
    {
     "data": {
      "text/plain": [
       "tensor([[ 0.8324,  1.2918],\n",
       "        [-0.9886,  0.3416]])"
      ]
     },
     "execution_count": 5,
     "metadata": {},
     "output_type": "execute_result"
    }
   ],
   "source": [
    "x = t.tensor([[1,2],[1,2]])\n",
    "t.randn(x.shape)"
   ]
  },
  {
   "cell_type": "code",
   "execution_count": 9,
   "metadata": {},
   "outputs": [],
   "source": [
    "# todo: make training config and give user easier control over it\n",
    "\n",
    "def calculate_noise(image_data: torch.Tensor, attack_target: str) -> torch.Tensor:\n",
    "    \n",
    "    # intialize model\n",
    "    model = models.resnet18(pretrained=True)\n",
    "    model.eval()\n",
    "    \n",
    "    # get index of target label\n",
    "    target_idx = get_target_idx(attack_target)\n",
    "    \n",
    "    # initialize noise\n",
    "    noise = t.randn(image_data.shape)\n",
    "    noise.requires_grad = True\n",
    "    \n",
    "    optimizer = t.optim.AdamW([noise], lr=0.01)\n",
    "    \n",
    "    # train noise\n",
    "    for step in range(100):\n",
    "        optimizer.zero_grad()\n",
    "        logits = model(image_data + noise)\n",
    "        loss = F.cross_entropy(logits, target_idx)\n",
    "        loss.backward()\n",
    "        optimizer.step()\n",
    "        \n",
    "        if step % 10 == 0:\n",
    "            print(f'step: {step}, loss: {loss}')\n",
    "            \n",
    "    print(predict_label(model, image_data + noise))        \n",
    "            \n",
    "    return noise\n",
    "    "
   ]
  },
  {
   "cell_type": "markdown",
   "metadata": {},
   "source": [
    "### generate and save image"
   ]
  },
  {
   "cell_type": "code",
   "execution_count": 10,
   "metadata": {},
   "outputs": [],
   "source": [
    "# Reverse the preprocessing transformations\n",
    "def tensor_to_image(tensor: torch.Tensor) -> Image.Image:\n",
    "    # Remove the batch dimension if it exists\n",
    "    if tensor.ndimension() == 4:\n",
    "        tensor = tensor.squeeze(0)\n",
    "    \n",
    "    # # Unnormalize the image\n",
    "    # unnormalize = transforms.Normalize(\n",
    "    #     mean=[-0.485 / 0.229, -0.456 / 0.224, -0.406 / 0.225],\n",
    "    #     std=[1 / 0.229, 1 / 0.224, 1 / 0.225]\n",
    "    # )\n",
    "    # unnormalized_tensor = unnormalize(tensor)\n",
    "    \n",
    "    # Clip the values to be between 0 and 1\n",
    "    unnormalized_tensor = torch.clamp(tensor, 0, 1)\n",
    "    \n",
    "    # Convert to PIL Image\n",
    "    to_pil = transforms.ToPILImage()\n",
    "    image = to_pil(unnormalized_tensor)\n",
    "    \n",
    "    return image\n",
    "\n",
    "def generate_and_save_image(\n",
    "    image_data: torch.Tensor, \n",
    "    attack_noise: torch.Tensor, \n",
    "    save_path: str):\n",
    "\n",
    "    output_image = tensor_to_image(image_data + attack_noise)\n",
    "    output_image.show()  # Display the image"
   ]
  },
  {
   "cell_type": "code",
   "execution_count": 11,
   "metadata": {},
   "outputs": [
    {
     "name": "stderr",
     "output_type": "stream",
     "text": [
      "/opt/homebrew/Caskroom/miniconda/base/lib/python3.11/site-packages/torchvision/models/_utils.py:208: UserWarning: The parameter 'pretrained' is deprecated since 0.13 and may be removed in the future, please use 'weights' instead.\n",
      "  warnings.warn(\n",
      "/opt/homebrew/Caskroom/miniconda/base/lib/python3.11/site-packages/torchvision/models/_utils.py:223: UserWarning: Arguments other than a weight enum or `None` for 'weights' are deprecated since 0.13 and may be removed in the future. The current behavior is equivalent to passing `weights=ResNet18_Weights.IMAGENET1K_V1`. You can also use `weights=ResNet18_Weights.DEFAULT` to get the most up-to-date weights.\n",
      "  warnings.warn(msg)\n"
     ]
    },
    {
     "name": "stdout",
     "output_type": "stream",
     "text": [
      "step: 0, loss: 7.934794902801514\n",
      "step: 10, loss: 0.0004822045157197863\n",
      "step: 20, loss: 0.00021860594279132783\n",
      "step: 30, loss: 0.00017414960893802345\n",
      "step: 40, loss: 0.0001541257370263338\n",
      "step: 50, loss: 0.00013910756388213485\n",
      "step: 60, loss: 0.0001262346631847322\n",
      "step: 70, loss: 0.00011538793478393927\n",
      "step: 80, loss: 0.00010585224663373083\n",
      "step: 90, loss: 9.762764238985255e-05\n",
      "lion\n"
     ]
    }
   ],
   "source": [
    "def attack_image(\n",
    "    image_path: str,\n",
    "    save_path: str,\n",
    "    attack_target: str, \n",
    "    attack_method: str\n",
    "    ):\n",
    "    \n",
    "    # proccess image for resnet18\n",
    "    image_data = proccess_image(image_path)    \n",
    "    \n",
    "    # calculate noise which minimizes loss with respect to target output\n",
    "    attack_noise = calculate_noise(image_data, attack_target)\n",
    "    \n",
    "    # generate and save output image\n",
    "    generate_and_save_image(image_data, attack_noise, save_path)\n",
    "    \n",
    "attack_image(\"grey.jpeg\", \"attacked_grey.jpeg\", \"lion\", \"minimize_loss\")"
   ]
  },
  {
   "cell_type": "code",
   "execution_count": null,
   "metadata": {},
   "outputs": [],
   "source": []
  }
 ],
 "metadata": {
  "kernelspec": {
   "display_name": "base",
   "language": "python",
   "name": "python3"
  },
  "language_info": {
   "codemirror_mode": {
    "name": "ipython",
    "version": 3
   },
   "file_extension": ".py",
   "mimetype": "text/x-python",
   "name": "python",
   "nbconvert_exporter": "python",
   "pygments_lexer": "ipython3",
   "version": "3.11.4"
  }
 },
 "nbformat": 4,
 "nbformat_minor": 2
}
